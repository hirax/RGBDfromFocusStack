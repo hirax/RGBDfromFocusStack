{
 "cells": [
  {
   "cell_type": "code",
   "execution_count": 1,
   "metadata": {
    "collapsed": false
   },
   "outputs": [],
   "source": [
    "\"\"\" Copyright:\n",
    "Jun Hirabayashi (jun@hirax.net) (2018), \n",
    "based on Charles McGuinness(charles@mcguinness.us)'s\n",
    "Simple Focus Stacker(2015)\n",
    "License:    Apache License 2.0\n",
    "\"\"\"\n",
    "\n",
    "import numpy as np\n",
    "import cv2, os\n",
    "\n",
    "def findHomography(img1kpts, img2kpts, matches):\n",
    "    img1pts = np.zeros((len(matches), 1, 2), dtype=np.float32)\n",
    "    img2pts = np.zeros((len(matches), 1, 2), dtype=np.float32)\n",
    "    for i in range(0,len(matches)):\n",
    "        img1pts[i] = img1kpts[ matches[i].queryIdx ].pt\n",
    "        img2pts[i] = img2kpts[ matches[i].trainIdx ].pt\n",
    "    homography, mask = cv2.findHomography(img1pts, img2pts, \n",
    "                       cv2.RANSAC, ransacReprojThreshold=2.0)\n",
    "    return homography\n",
    "\n",
    "def alignImages(imgs):\n",
    "    imgsKPs = []; imgsDescs = []\n",
    "    imageNum = len(imgs); refImageID = round(imageNum/2)\n",
    "    detector = cv2.ORB_create(1000)    \n",
    "    for i in range(0, imageNum-1):\n",
    "        grayImg = cv2.cvtColor(imgs[i],cv2.COLOR_BGR2GRAY)\n",
    "        imgKP, imgDesc = detector.detectAndCompute(\n",
    "            cv2.cvtColor(imgs[i],cv2.COLOR_BGR2GRAY), None)\n",
    "        imgsKPs.append(imgKP)\n",
    "        imgsDescs.append(imgDesc)\n",
    "    bf = cv2.BFMatcher(cv2.NORM_HAMMING, crossCheck=True)\n",
    "    homographyMatrix = []\n",
    "    alignImages = []\n",
    "    for i in range(0, imageNum-1):\n",
    "        rawMatches = bf.match(imgsDescs[i], imgsDescs[refImageID])\n",
    "        sortMatches = sorted(rawMatches, key=lambda x: x.distance)\n",
    "        matches = sortMatches[0:128]\n",
    "        homographyMatrix.append( findHomography(\n",
    "                imgsKPs[i], imgsKPs[refImageID], matches) )\n",
    "        alignImages.append( cv2.warpPerspective( imgs[i], \n",
    "                            homographyMatrix[i], \n",
    "                            (imgs[i].shape[1], imgs[i].shape[0]), \n",
    "                            flags=cv2.INTER_LINEAR) )\n",
    "    return alignImages\n",
    "\n",
    "def focusStack(images):\n",
    "    alignedImages = alignImages(images)\n",
    "    gaussianLaplacians = []\n",
    "    for i in range(len(alignedImages)):\n",
    "        blurred = cv2.GaussianBlur(cv2.cvtColor(\n",
    "                images[i],cv2.COLOR_BGR2GRAY), (3, 3), 0)\n",
    "        gaussianLaplacians.append(cv2.Laplacian(blurred, cv2.CV_64F, ksize=5))\n",
    "    gaussianLaplacians = np.asarray(gaussianLaplacians)\n",
    "    aShape = alignedImages[0].shape; aDtype = alignedImages[0].dtype\n",
    "    output = np.zeros(shape=aShape,dtype=aDtype)\n",
    "    depth = np.zeros(shape=aShape, dtype=aDtype )\n",
    "    for y in range(0, alignedImages[0].shape[0]):\n",
    "        for x in range(0, alignedImages[0].shape[1]):\n",
    "            gaussianLaplacian = abs(gaussianLaplacians[:, y, x])\n",
    "            maxIdx = (np.where(gaussianLaplacian == max(gaussianLaplacian)))[0][0]\n",
    "            output[y,x] = images[maxIdx][y,x]\n",
    "            depth[y,x] = maxIdx \n",
    "    return  (output, depth)"
   ]
  },
  {
   "cell_type": "code",
   "execution_count": null,
   "metadata": {
    "collapsed": true
   },
   "outputs": [],
   "source": [
    "image_files = sorted(os.listdir( \"./\" ))\n",
    "focusimages = []\n",
    "for img in image_files:\n",
    "    if img.split(\".\")[-1].lower() in [\"jpg\"]:\n",
    "        focusimages.append( cv2.imread(\"./{}\".format(img)) )\n",
    "merged, depth = focusStack(focusimages)\n",
    "cv2.imwrite(\"merged.png\", merged)\n",
    "cv2.imwrite(\"depth.png\", depth)"
   ]
  },
  {
   "cell_type": "code",
   "execution_count": null,
   "metadata": {
    "collapsed": true
   },
   "outputs": [],
   "source": [
    "import os\n",
    "\"\"\"\n",
    "    Author:     Charles McGuinness (charles@mcguinness.us)\n",
    "    Copyright:  Copyright 2015 Charles McGuinness\n",
    "    License:    Apache License 2.0\n",
    "\"\"\"\n",
    "def focusStack(image_files):\n",
    "    focusimages = []          # 画像ファイルパスのリスト\n",
    "    for img in image_files:   # から、CV画像のリストを作成する\n",
    "        print( \"Reading in file {}\".format(img) )\n",
    "        focusimages.append( cv2.imread(\"input_2/{}\".format(img)) )\n",
    "    merged, depth = focus_stack(focusimages) # フォーカススタッキング画像を作成\n",
    "    cv2.imwrite(\"merged.png\", merged)\n",
    "    cv2.imwrite(\"depth.png\", depth)\n",
    "\n",
    "image_files = sorted(os.listdir( \"input_2\" )) # 画像ファイルパスのリストを作成\n",
    "for img in image_files:\n",
    "    if img.split(\".\")[-1].lower() not in [\"jpg\", \"jpeg\", \"png\"]:\n",
    "        image_files.remove(img)\n",
    "focusStack(image_files)"
   ]
  },
  {
   "cell_type": "code",
   "execution_count": null,
   "metadata": {
    "collapsed": true
   },
   "outputs": [],
   "source": []
  }
 ],
 "metadata": {
  "kernelspec": {
   "display_name": "Python [default]",
   "language": "python",
   "name": "python3"
  },
  "language_info": {
   "codemirror_mode": {
    "name": "ipython",
    "version": 3
   },
   "file_extension": ".py",
   "mimetype": "text/x-python",
   "name": "python",
   "nbconvert_exporter": "python",
   "pygments_lexer": "ipython3",
   "version": "3.5.2"
  }
 },
 "nbformat": 4,
 "nbformat_minor": 0
}
